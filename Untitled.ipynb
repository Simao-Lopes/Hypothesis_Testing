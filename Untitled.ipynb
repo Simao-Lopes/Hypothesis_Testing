{
 "cells": [
  {
   "cell_type": "code",
   "execution_count": 1,
   "id": "ba8d2903",
   "metadata": {
    "ExecuteTime": {
     "end_time": "2022-09-27T14:25:43.314104Z",
     "start_time": "2022-09-27T14:25:43.294082Z"
    }
   },
   "outputs": [],
   "source": [
    "def matrix_correlation(data):\n",
    "    matrix = []\n",
    "\n",
    "    for i in data.columns:\n",
    "        line = []\n",
    "        for j in data.columns:\n",
    "            line.append(st.chi2_contingency(pd.crosstab(narrowdown_states[i], narrowdown_states[j], margins = False))[1]   )\n",
    "        matix.append(line)\n",
    "    \n",
    "    return matrix\n"
   ]
  }
 ],
 "metadata": {
  "kernelspec": {
   "display_name": "Python 3 (ipykernel)",
   "language": "python",
   "name": "python3"
  },
  "language_info": {
   "codemirror_mode": {
    "name": "ipython",
    "version": 3
   },
   "file_extension": ".py",
   "mimetype": "text/x-python",
   "name": "python",
   "nbconvert_exporter": "python",
   "pygments_lexer": "ipython3",
   "version": "3.9.12"
  },
  "toc": {
   "base_numbering": 1,
   "nav_menu": {},
   "number_sections": true,
   "sideBar": true,
   "skip_h1_title": false,
   "title_cell": "Table of Contents",
   "title_sidebar": "Contents",
   "toc_cell": false,
   "toc_position": {},
   "toc_section_display": true,
   "toc_window_display": false
  }
 },
 "nbformat": 4,
 "nbformat_minor": 5
}
